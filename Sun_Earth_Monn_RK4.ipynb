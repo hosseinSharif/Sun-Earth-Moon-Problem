{
 "cells": [
  {
   "cell_type": "markdown",
   "metadata": {},
   "source": [
    "First Jupyter Notebook For Debugging Purposes!"
   ]
  },
  {
   "cell_type": "code",
   "execution_count": null,
   "metadata": {},
   "outputs": [],
   "source": [
    "using Plots\n",
    "\n",
    "# Constants: (SI Units)\n",
    "const M_S = 1.989e30 # The Mass of The Sun (Kg)"
   ]
  },
  {
   "cell_type": "code",
   "execution_count": null,
   "metadata": {},
   "outputs": [],
   "source": [
    "const M_E = 5.972e24 # The Mass of The Earth (Kg)"
   ]
  },
  {
   "cell_type": "code",
   "execution_count": null,
   "metadata": {},
   "outputs": [],
   "source": [
    "const M_M = 7.34767309e22 # The Mass of The Moon (Kg)"
   ]
  },
  {
   "cell_type": "code",
   "execution_count": null,
   "metadata": {},
   "outputs": [],
   "source": [
    "const G = 6.6743e-11 # Gravitational Constant (m^3kg^-1s^-2)"
   ]
  },
  {
   "cell_type": "code",
   "execution_count": null,
   "metadata": {},
   "outputs": [],
   "source": [
    "const AU = 149597870700 # Mean Distance Between The Sun And The Earth (m)"
   ]
  },
  {
   "cell_type": "code",
   "execution_count": null,
   "metadata": {},
   "outputs": [],
   "source": [
    "const SEMD = AU # Sun-Earth Mean Distance = 149597870.700 Km"
   ]
  },
  {
   "cell_type": "code",
   "execution_count": null,
   "metadata": {},
   "outputs": [],
   "source": [
    "const EMMD = AU / 391.1055443137255 # Earth-Moon Mean Distance = 382,500 Km"
   ]
  },
  {
   "cell_type": "code",
   "execution_count": null,
   "metadata": {},
   "outputs": [],
   "source": [
    "const M_i = 5.15 # The Moon moves in an approximately elliptic orbit inclined \n",
    "# at about five degrees to the plane of the ecliptic. (In Degrees)"
   ]
  },
  {
   "cell_type": "code",
   "execution_count": null,
   "metadata": {},
   "outputs": [],
   "source": [
    "## Linear Velocity of The Earth In Orbit Around The Sun:\n",
    "# This equation can be proved with the help of polar\n",
    "# coordinates and two assumptions:\n",
    "# 1- r is constant in orbital motion (r = AU)\n",
    "# 2- Theta_Dot is constant in orbital motuon (Theta_Dot = cte.)\n",
    "const V_E0 = (G * M_S / SEMD)^0.5 # Earth Initial Velocity"
   ]
  },
  {
   "cell_type": "code",
   "execution_count": null,
   "metadata": {},
   "outputs": [],
   "source": [
    "const V_M0 = (G * M_E / EMMD)^0.5 + V_E0 # Moon Initial Velocity"
   ]
  },
  {
   "cell_type": "code",
   "execution_count": null,
   "metadata": {},
   "outputs": [],
   "source": [
    "# State-Space Matrix Calculation Function:\n",
    "function f(x_var)\n",
    "    D_A1_A2 = 1 / (((x_var[1] - x_var[4])^2 + (x_var[2] - x_var[5])^2 + (x_var[3] - x_var[6])^2)^(3 / 2))\n",
    "    D_B1 = 1 / ((x_var[1]^2 + x_var[2]^2 + x_var[3]^2)^(3 / 2)) # Inverse of The Distance of The Moon\n",
    "    D_B2 = 1 / ((x_var[4]^2 + x_var[5]^2 + x_var[6]^2)^(3 / 2)) # Inverse of The Distance of The Earth\n",
    "\n",
    "    A1 = (G * M_E) / D_A1_A2\n",
    "    A2 = (G * M_M) / D_A1_A2\n",
    "    B1 = (G * M_S) / D_B1\n",
    "    B2 = (G * M_S) / D_B2\n",
    "\n",
    "    Z1 = -B1 - A1\n",
    "    Z2 = -B2 - A2\n",
    "\n",
    "    # Stat-Space Matrix\n",
    "    A = [0 0 0 0 0 0 1 0 0 0 0 0\n",
    "        0 0 0 0 0 0 0 1 0 0 0 0\n",
    "        0 0 0 0 0 0 0 0 1 0 0 0\n",
    "        0 0 0 0 0 0 0 0 0 1 0 0\n",
    "        0 0 0 0 0 0 0 0 0 0 1 0\n",
    "        0 0 0 0 0 0 0 0 0 0 0 1\n",
    "        Z1 0 0 A1 0 0 0 0 0 0 0 0\n",
    "        0 Z1 0 0 A1 0 0 0 0 0 0 0\n",
    "        0 0 Z1 0 0 A1 0 0 0 0 0 0\n",
    "        A2 0 0 Z2 0 0 0 0 0 0 0 0\n",
    "        0 A2 0 0 Z2 0 0 0 0 0 0 0\n",
    "        0 0 A2 0 0 Z2 0 0 0 0 0 0]\n",
    "\n",
    "    f_x = A * x_var\n",
    "    return f_x\n",
    "end"
   ]
  },
  {
   "cell_type": "code",
   "execution_count": null,
   "metadata": {},
   "outputs": [],
   "source": [
    "# Initialize System:\n",
    "Day_Hours = 23 + (56 / 60) + (4 / 3600) # Hours of A Day"
   ]
  },
  {
   "cell_type": "code",
   "execution_count": null,
   "metadata": {},
   "outputs": [],
   "source": [
    "Year_Days = 365.2425 # Days of "
   ]
  },
  {
   "cell_type": "code",
   "execution_count": null,
   "metadata": {},
   "outputs": [],
   "source": [
    "Year_Seconds = Year_Days * Day_Hours * 3600"
   ]
  },
  {
   "cell_type": "code",
   "execution_count": null,
   "metadata": {},
   "outputs": [],
   "source": [
    "dD = 0.1 # Simulation Step In Day"
   ]
  },
  {
   "cell_type": "code",
   "execution_count": null,
   "metadata": {},
   "outputs": [],
   "source": [
    "Stop_Year = 0.08 # The year that the simulation will stop."
   ]
  },
  {
   "cell_type": "code",
   "execution_count": null,
   "metadata": {},
   "outputs": [],
   "source": [
    "dY = dD / 365.2425 # Simulation  Step In Years"
   ]
  },
  {
   "cell_type": "code",
   "execution_count": null,
   "metadata": {},
   "outputs": [],
   "source": [
    "Δt = dY * Year_Seconds # In Seconds"
   ]
  },
  {
   "cell_type": "code",
   "execution_count": null,
   "metadata": {},
   "outputs": [],
   "source": [
    "Year = 0:dY:Stop_Year # In Years"
   ]
  },
  {
   "cell_type": "code",
   "execution_count": null,
   "metadata": {},
   "outputs": [],
   "source": [
    "xM0 = -SEMD - (EMMD * cosd(M_i))"
   ]
  },
  {
   "cell_type": "code",
   "execution_count": null,
   "metadata": {},
   "outputs": [],
   "source": [
    "yM0 = 0"
   ]
  },
  {
   "cell_type": "code",
   "execution_count": null,
   "metadata": {},
   "outputs": [],
   "source": [
    "zM0 = EMMD * sind(M_i)"
   ]
  },
  {
   "cell_type": "code",
   "execution_count": null,
   "metadata": {},
   "outputs": [],
   "source": [
    "VxM0 = 0"
   ]
  },
  {
   "cell_type": "code",
   "execution_count": null,
   "metadata": {},
   "outputs": [],
   "source": [
    "VyM0 = -V_M0"
   ]
  },
  {
   "cell_type": "code",
   "execution_count": null,
   "metadata": {},
   "outputs": [],
   "source": [
    "VzM0 = 0"
   ]
  },
  {
   "cell_type": "code",
   "execution_count": null,
   "metadata": {},
   "outputs": [],
   "source": [
    "xE0 = -SEMD"
   ]
  },
  {
   "cell_type": "code",
   "execution_count": null,
   "metadata": {},
   "outputs": [],
   "source": [
    "yE0 = 0"
   ]
  },
  {
   "cell_type": "code",
   "execution_count": null,
   "metadata": {},
   "outputs": [],
   "source": [
    "zE0 = 0"
   ]
  },
  {
   "cell_type": "code",
   "execution_count": null,
   "metadata": {},
   "outputs": [],
   "source": [
    "VxE0 = 0"
   ]
  },
  {
   "cell_type": "code",
   "execution_count": null,
   "metadata": {},
   "outputs": [],
   "source": [
    "VyE0 = -V_E0"
   ]
  },
  {
   "cell_type": "code",
   "execution_count": null,
   "metadata": {},
   "outputs": [],
   "source": [
    "VzE0 = 0"
   ]
  },
  {
   "cell_type": "code",
   "execution_count": null,
   "metadata": {},
   "outputs": [],
   "source": [
    "x = zeros(12, length(Year))"
   ]
  },
  {
   "cell_type": "code",
   "execution_count": null,
   "metadata": {},
   "outputs": [],
   "source": [
    "x[:, 1] = [xM0 yM0 zM0 xE0 yE0 zE0 VxM0 VyM0 VzM0 VxE0 VyE0 VzE0]'"
   ]
  },
  {
   "cell_type": "code",
   "execution_count": null,
   "metadata": {},
   "outputs": [],
   "source": [
    "i = 1"
   ]
  },
  {
   "cell_type": "code",
   "execution_count": null,
   "metadata": {},
   "outputs": [],
   "source": [
    "k1 = Δt .* f(x[:, i])"
   ]
  },
  {
   "cell_type": "code",
   "execution_count": null,
   "metadata": {},
   "outputs": [],
   "source": [
    "k2 = Δt .* f(x[:, i] + k1 ./ 2)"
   ]
  },
  {
   "cell_type": "code",
   "execution_count": null,
   "metadata": {},
   "outputs": [],
   "source": [
    "k3 = Δt .* f(x[:, i] + k2 ./ 2)"
   ]
  }
 ],
 "metadata": {
  "kernelspec": {
   "display_name": "Julia 1.8.5",
   "language": "julia",
   "name": "julia-1.8"
  },
  "language_info": {
   "file_extension": ".jl",
   "mimetype": "application/julia",
   "name": "julia",
   "version": "1.8.5"
  },
  "orig_nbformat": 4
 },
 "nbformat": 4,
 "nbformat_minor": 2
}
