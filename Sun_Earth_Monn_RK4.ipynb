{
 "cells": [
  {
   "cell_type": "markdown",
   "metadata": {},
   "source": [
    "First Jupyter Notebook For Debugging Purposes!"
   ]
  },
  {
   "cell_type": "code",
   "execution_count": 38,
   "metadata": {},
   "outputs": [
    {
     "data": {
      "text/plain": [
       "1.989e30"
      ]
     },
     "metadata": {},
     "output_type": "display_data"
    }
   ],
   "source": [
    "using Plots\n",
    "\n",
    "# Constants: (SI Units)\n",
    "const M_S = 1.989e30 # The Mass of The Sun (Kg)"
   ]
  },
  {
   "cell_type": "code",
   "execution_count": 39,
   "metadata": {},
   "outputs": [
    {
     "data": {
      "text/plain": [
       "5.972e24"
      ]
     },
     "metadata": {},
     "output_type": "display_data"
    }
   ],
   "source": [
    "const M_E = 5.972e24 # The Mass of The Earth (Kg)"
   ]
  },
  {
   "cell_type": "code",
   "execution_count": 40,
   "metadata": {},
   "outputs": [
    {
     "data": {
      "text/plain": [
       "7.34767309e22"
      ]
     },
     "metadata": {},
     "output_type": "display_data"
    }
   ],
   "source": [
    "const M_M = 7.34767309e22 # The Mass of The Moon (Kg)"
   ]
  },
  {
   "cell_type": "code",
   "execution_count": 41,
   "metadata": {},
   "outputs": [
    {
     "data": {
      "text/plain": [
       "6.6743e-11"
      ]
     },
     "metadata": {},
     "output_type": "display_data"
    }
   ],
   "source": [
    "const G = 6.6743e-11 # Gravitational Constant (m^3kg^-1s^-2)"
   ]
  },
  {
   "cell_type": "code",
   "execution_count": 42,
   "metadata": {},
   "outputs": [],
   "source": [
    "const AU = 149597870700;"
   ]
  },
  {
   "cell_type": "code",
   "execution_count": 43,
   "metadata": {},
   "outputs": [
    {
     "data": {
      "text/plain": [
       "149597870700"
      ]
     },
     "metadata": {},
     "output_type": "display_data"
    }
   ],
   "source": [
    "const SEMD = AU # Sun-Earth Mean Distance = 149597870.700 Km"
   ]
  },
  {
   "cell_type": "code",
   "execution_count": 44,
   "metadata": {},
   "outputs": [
    {
     "data": {
      "text/plain": [
       "3.825e8"
      ]
     },
     "metadata": {},
     "output_type": "display_data"
    }
   ],
   "source": [
    "const EMMD = AU / 391.1055443137255 # Earth-Moon Mean Distance = 382,500 Km"
   ]
  },
  {
   "cell_type": "code",
   "execution_count": 45,
   "metadata": {},
   "outputs": [
    {
     "data": {
      "text/plain": [
       "5.15"
      ]
     },
     "metadata": {},
     "output_type": "display_data"
    }
   ],
   "source": [
    "const M_i = 5.15 # The Moon moves in an approximately elliptic orbit inclined \n",
    "# at about five degrees to the plane of the ecliptic. (In Degrees)"
   ]
  },
  {
   "cell_type": "code",
   "execution_count": 46,
   "metadata": {},
   "outputs": [
    {
     "data": {
      "text/plain": [
       "29789.111319772674"
      ]
     },
     "metadata": {},
     "output_type": "display_data"
    }
   ],
   "source": [
    "## Linear Velocity of The Earth In Orbit Around The Sun:\n",
    "# This equation can be proved with the help of polar\n",
    "# coordinates and two assumptions:\n",
    "# 1- r is constant in orbital motion (r = AU)\n",
    "# 2- Theta_Dot is constant in orbital motuon (Theta_Dot = cte.)\n",
    "const V_E0 = (G * M_S / SEMD)^0.5 # Earth Initial Velocity"
   ]
  },
  {
   "cell_type": "code",
   "execution_count": 47,
   "metadata": {},
   "outputs": [
    {
     "data": {
      "text/plain": [
       "30809.92631648674"
      ]
     },
     "metadata": {},
     "output_type": "display_data"
    }
   ],
   "source": [
    "const V_M0 = (G * M_E / EMMD)^0.5 + V_E0 # Moon Initial Velocity"
   ]
  },
  {
   "cell_type": "code",
   "execution_count": 48,
   "metadata": {},
   "outputs": [
    {
     "data": {
      "text/plain": [
       "f (generic function with 1 method)"
      ]
     },
     "metadata": {},
     "output_type": "display_data"
    }
   ],
   "source": [
    "# State-Space Matrix Calculation Function:\n",
    "function f(x_var)\n",
    "    D_A1_A2 = (((x_var[1] - x_var[4])^2 + (x_var[2] - x_var[5])^2 + (x_var[3] - x_var[6])^2)^(3 / 2))\n",
    "    D_B1 = ((x_var[1]^2 + x_var[2]^2 + x_var[3]^2)^(3 / 2)) # Inverse of The Distance of The Moon\n",
    "    D_B2 = ((x_var[4]^2 + x_var[5]^2 + x_var[6]^2)^(3 / 2)) # Inverse of The Distance of The Earth\n",
    "\n",
    "    A1 = (G * M_E) / D_A1_A2\n",
    "    A2 = (G * M_M) / D_A1_A2\n",
    "    B1 = (G * M_S) / D_B1\n",
    "    B2 = (G * M_S) / D_B2\n",
    "\n",
    "    Z1 = -B1 - A1\n",
    "    Z2 = -B2 - A2\n",
    "\n",
    "    # Stat-Space Matrix\n",
    "    A = [0 0 0 0 0 0 1 0 0 0 0 0\n",
    "        0 0 0 0 0 0 0 1 0 0 0 0\n",
    "        0 0 0 0 0 0 0 0 1 0 0 0\n",
    "        0 0 0 0 0 0 0 0 0 1 0 0\n",
    "        0 0 0 0 0 0 0 0 0 0 1 0\n",
    "        0 0 0 0 0 0 0 0 0 0 0 1\n",
    "        Z1 0 0 A1 0 0 0 0 0 0 0 0\n",
    "        0 Z1 0 0 A1 0 0 0 0 0 0 0\n",
    "        0 0 Z1 0 0 A1 0 0 0 0 0 0\n",
    "        A2 0 0 Z2 0 0 0 0 0 0 0 0\n",
    "        0 A2 0 0 Z2 0 0 0 0 0 0 0\n",
    "        0 0 A2 0 0 Z2 0 0 0 0 0 0]\n",
    "\n",
    "    f_x = A * x_var\n",
    "    return f_x\n",
    "end"
   ]
  },
  {
   "cell_type": "code",
   "execution_count": 49,
   "metadata": {},
   "outputs": [
    {
     "data": {
      "text/plain": [
       "23.934444444444445"
      ]
     },
     "metadata": {},
     "output_type": "display_data"
    }
   ],
   "source": [
    "# Initialize System:\n",
    "Day_Hours = 23 + (56 / 60) + (4 / 3600) # Hours of A Day"
   ]
  },
  {
   "cell_type": "code",
   "execution_count": 50,
   "metadata": {},
   "outputs": [
    {
     "data": {
      "text/plain": [
       "365.2425"
      ]
     },
     "metadata": {},
     "output_type": "display_data"
    }
   ],
   "source": [
    "Year_Days = 365.2425 # Days of "
   ]
  },
  {
   "cell_type": "code",
   "execution_count": 51,
   "metadata": {},
   "outputs": [
    {
     "data": {
      "text/plain": [
       "3.1470754770000003e7"
      ]
     },
     "metadata": {},
     "output_type": "display_data"
    }
   ],
   "source": [
    "Year_Seconds = Year_Days * Day_Hours * 3600"
   ]
  },
  {
   "cell_type": "code",
   "execution_count": 52,
   "metadata": {},
   "outputs": [
    {
     "data": {
      "text/plain": [
       "0.1"
      ]
     },
     "metadata": {},
     "output_type": "display_data"
    }
   ],
   "source": [
    "dD = 0.1 # Simulation Step In Day"
   ]
  },
  {
   "cell_type": "code",
   "execution_count": 53,
   "metadata": {},
   "outputs": [
    {
     "data": {
      "text/plain": [
       "0.08"
      ]
     },
     "metadata": {},
     "output_type": "display_data"
    }
   ],
   "source": [
    "Stop_Year = 0.08 # The year that the simulation will stop."
   ]
  },
  {
   "cell_type": "code",
   "execution_count": 54,
   "metadata": {},
   "outputs": [
    {
     "data": {
      "text/plain": [
       "0.00027379070069885077"
      ]
     },
     "metadata": {},
     "output_type": "display_data"
    }
   ],
   "source": [
    "dY = dD / 365.2425 # Simulation  Step In Years"
   ]
  },
  {
   "cell_type": "code",
   "execution_count": 55,
   "metadata": {},
   "outputs": [
    {
     "data": {
      "text/plain": [
       "8616.400000000001"
      ]
     },
     "metadata": {},
     "output_type": "display_data"
    }
   ],
   "source": [
    "Δt = dY * Year_Seconds # In Seconds"
   ]
  },
  {
   "cell_type": "code",
   "execution_count": 56,
   "metadata": {},
   "outputs": [
    {
     "data": {
      "text/plain": [
       "0.0:0.00027379070069885077:0.07994688460406442"
      ]
     },
     "metadata": {},
     "output_type": "display_data"
    }
   ],
   "source": [
    "Year = 0:dY:Stop_Year # In Years"
   ]
  },
  {
   "cell_type": "code",
   "execution_count": 57,
   "metadata": {},
   "outputs": [
    {
     "data": {
      "text/plain": [
       "-1.4997882659005237e11"
      ]
     },
     "metadata": {},
     "output_type": "display_data"
    }
   ],
   "source": [
    "xM0 = -SEMD - (EMMD * cosd(M_i))"
   ]
  },
  {
   "cell_type": "code",
   "execution_count": 58,
   "metadata": {},
   "outputs": [
    {
     "data": {
      "text/plain": [
       "0"
      ]
     },
     "metadata": {},
     "output_type": "display_data"
    }
   ],
   "source": [
    "yM0 = 0"
   ]
  },
  {
   "cell_type": "code",
   "execution_count": 59,
   "metadata": {},
   "outputs": [
    {
     "data": {
      "text/plain": [
       "3.433452831215084e7"
      ]
     },
     "metadata": {},
     "output_type": "display_data"
    }
   ],
   "source": [
    "zM0 = EMMD * sind(M_i)"
   ]
  },
  {
   "cell_type": "code",
   "execution_count": 60,
   "metadata": {},
   "outputs": [
    {
     "data": {
      "text/plain": [
       "0"
      ]
     },
     "metadata": {},
     "output_type": "display_data"
    }
   ],
   "source": [
    "VxM0 = 0"
   ]
  },
  {
   "cell_type": "code",
   "execution_count": 61,
   "metadata": {},
   "outputs": [
    {
     "data": {
      "text/plain": [
       "-30809.92631648674"
      ]
     },
     "metadata": {},
     "output_type": "display_data"
    }
   ],
   "source": [
    "VyM0 = -V_M0"
   ]
  },
  {
   "cell_type": "code",
   "execution_count": 62,
   "metadata": {},
   "outputs": [
    {
     "data": {
      "text/plain": [
       "0"
      ]
     },
     "metadata": {},
     "output_type": "display_data"
    }
   ],
   "source": [
    "VzM0 = 0"
   ]
  },
  {
   "cell_type": "code",
   "execution_count": 63,
   "metadata": {},
   "outputs": [
    {
     "data": {
      "text/plain": [
       "-149597870700"
      ]
     },
     "metadata": {},
     "output_type": "display_data"
    }
   ],
   "source": [
    "xE0 = -SEMD"
   ]
  },
  {
   "cell_type": "code",
   "execution_count": 64,
   "metadata": {},
   "outputs": [
    {
     "data": {
      "text/plain": [
       "0"
      ]
     },
     "metadata": {},
     "output_type": "display_data"
    }
   ],
   "source": [
    "yE0 = 0"
   ]
  },
  {
   "cell_type": "code",
   "execution_count": 65,
   "metadata": {},
   "outputs": [
    {
     "data": {
      "text/plain": [
       "0"
      ]
     },
     "metadata": {},
     "output_type": "display_data"
    }
   ],
   "source": [
    "zE0 = 0"
   ]
  },
  {
   "cell_type": "code",
   "execution_count": 66,
   "metadata": {},
   "outputs": [
    {
     "data": {
      "text/plain": [
       "0"
      ]
     },
     "metadata": {},
     "output_type": "display_data"
    }
   ],
   "source": [
    "VxE0 = 0"
   ]
  },
  {
   "cell_type": "code",
   "execution_count": 67,
   "metadata": {},
   "outputs": [
    {
     "data": {
      "text/plain": [
       "-29789.111319772674"
      ]
     },
     "metadata": {},
     "output_type": "display_data"
    }
   ],
   "source": [
    "VyE0 = -V_E0"
   ]
  },
  {
   "cell_type": "code",
   "execution_count": 68,
   "metadata": {},
   "outputs": [
    {
     "data": {
      "text/plain": [
       "0"
      ]
     },
     "metadata": {},
     "output_type": "display_data"
    }
   ],
   "source": [
    "VzE0 = 0"
   ]
  },
  {
   "cell_type": "code",
   "execution_count": 69,
   "metadata": {},
   "outputs": [],
   "source": [
    "x = zeros(12, length(Year));"
   ]
  },
  {
   "cell_type": "code",
   "execution_count": 70,
   "metadata": {},
   "outputs": [
    {
     "data": {
      "text/plain": [
       "12×1 adjoint(::Matrix{Float64}) with eltype Float64:\n",
       "     -1.4997882659005237e11\n",
       "      0.0\n",
       "      3.433452831215084e7\n",
       "     -1.495978707e11\n",
       "      0.0\n",
       "      0.0\n",
       "      0.0\n",
       " -30809.92631648674\n",
       "      0.0\n",
       "      0.0\n",
       " -29789.111319772674\n",
       "      0.0"
      ]
     },
     "metadata": {},
     "output_type": "display_data"
    }
   ],
   "source": [
    "x[:, 1] = [xM0 yM0 zM0 xE0 yE0 zE0 VxM0 VyM0 VzM0 VxE0 VyE0 VzE0]'"
   ]
  },
  {
   "cell_type": "code",
   "execution_count": 71,
   "metadata": {},
   "outputs": [
    {
     "data": {
      "text/plain": [
       "1"
      ]
     },
     "metadata": {},
     "output_type": "display_data"
    }
   ],
   "source": [
    "i = 1"
   ]
  },
  {
   "cell_type": "code",
   "execution_count": 72,
   "metadata": {},
   "outputs": [
    {
     "data": {
      "text/plain": [
       "12-element Vector{Float64}:\n",
       "  0.0\n",
       " -2.654706491133764e8\n",
       "  0.0\n",
       "  0.0\n",
       " -2.566748987756893e8\n",
       "  0.0\n",
       " 74.23112392427625\n",
       "  0.0\n",
       " -2.1187559921394516\n",
       " 50.82348784402189\n",
       "  0.0\n",
       "  0.0259249643746711"
      ]
     },
     "metadata": {},
     "output_type": "display_data"
    }
   ],
   "source": [
    "k1 = Δt .* f(x[:, i])"
   ]
  },
  {
   "cell_type": "code",
   "execution_count": 73,
   "metadata": {},
   "outputs": [
    {
     "data": {
      "text/plain": [
       "12-element Vector{Float64}:\n",
       " 319802.528090567\n",
       "     -2.654706491133764e8\n",
       "  -9128.024565335187\n",
       " 218957.75032961514\n",
       "     -2.566748987756893e8\n",
       "    111.68993151895806\n",
       "     74.22642891737196\n",
       "      0.31484984525366233\n",
       "     -2.118338214900043\n",
       "     50.82348845032349\n",
       "      0.04052727508735539\n",
       "      0.025919824404676602"
      ]
     },
     "metadata": {},
     "output_type": "display_data"
    }
   ],
   "source": [
    "k2 = Δt .* f(x[:, i] + k1 ./ 2)"
   ]
  },
  {
   "cell_type": "code",
   "execution_count": 74,
   "metadata": {},
   "outputs": [
    {
     "data": {
      "text/plain": [
       "12-element Vector{Float64}:\n",
       " 319782.3010618219\n",
       "     -2.654692926772731e8\n",
       "  -9126.224697432368\n",
       " 218957.7529416837\n",
       "     -2.566747241760828e8\n",
       "    111.66778750022776\n",
       "     74.23272622367081\n",
       "      0.31495716567464926\n",
       "     -2.1188898614734857\n",
       "     50.82348711361657\n",
       "      0.040526052702773666\n",
       "      0.025926611110917222"
      ]
     },
     "metadata": {},
     "output_type": "display_data"
    }
   ],
   "source": [
    "k3 = Δt .* f(x[:, i] + k2 ./ 2)"
   ]
  },
  {
   "cell_type": "code",
   "execution_count": 75,
   "metadata": {},
   "outputs": [
    {
     "data": {
      "text/plain": [
       "12-element Vector{Float64}:\n",
       " 639618.8622336373\n",
       "     -2.6546793531645405e8\n",
       " -18257.202602400146\n",
       " 437915.4943657659\n",
       "     -2.5667454958700877e8\n",
       "    223.3940519761072\n",
       "     74.22493792157721\n",
       "      0.6297345297336068\n",
       "     -2.1181881267847587\n",
       "     50.823487603005326\n",
       "      0.0810541540286522\n",
       "      0.025917977297748477"
      ]
     },
     "metadata": {},
     "output_type": "display_data"
    }
   ],
   "source": [
    "k4 = Δt .* f(x[:, i] + k3)"
   ]
  },
  {
   "cell_type": "code",
   "execution_count": null,
   "metadata": {},
   "outputs": [],
   "source": []
  }
 ],
 "metadata": {
  "kernelspec": {
   "display_name": "Julia 1.8.5",
   "language": "julia",
   "name": "julia-1.8"
  },
  "language_info": {
   "file_extension": ".jl",
   "mimetype": "application/julia",
   "name": "julia",
   "version": "1.8.5"
  },
  "orig_nbformat": 4
 },
 "nbformat": 4,
 "nbformat_minor": 2
}
